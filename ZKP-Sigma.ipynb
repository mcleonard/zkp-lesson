{
 "cells": [
  {
   "cell_type": "markdown",
   "id": "convenient-participation",
   "metadata": {},
   "source": [
    "# Sigma Protocols\n",
    "\n",
    "A Sigma Protocol is a general three-move proof of knowledge. The goal is to prove the knowledge of some secret information, without revealing any information to the verifier, other than that we know the secret.\n",
    "\n",
    "Alice wants to prove knowledge of a secret key to Bob. Of course, Alice doesn't want to reveal the secret key, just that she knows it. Here we'll use Schnorr's Proof of Identify, a well known exampel of a sigma protocol.\n",
    "\n",
    "First, Alice has a secret key, $x$, and a public key, $H$:\n",
    " \n",
    "$$ \n",
    "\\begin{align*}\n",
    "x &= \\textrm{random element from} \\, \\{1, 2, 3, ..., q - 1\\} \\\\\n",
    "H &= g^x \\mod q\n",
    "\\end{align*}\n",
    "$$\n",
    "\n",
    "where $q$ is a prime number and $g$ is a generator of a cyclic group with prime-order $q$. The public key, the group, and the generator are all shared publicly. Alice keeps the secret key and can use it to encrypt data.\n",
    "\n",
    "This is the same key generation scheme as Diffie-Hellman and many other cryptographic schemes, which makes this protocol very useful. You could for instance use this protocol to prove knowledge of a private key used in an D-H exchange. \n",
    "\n",
    "As noted elsewhere, this takes advantage of the Discrete Logarithm problem. We are sharing the public key $H = g^x$, the generator $g$ is known as well. This means that if $\\log_g(h)$ is easily calculated, anyone could find the private key $x$. By using a large prime $q$, which the generator $g$ is derived from, it's very difficult to compute $x$ from $h$.\n",
    "\n",
    "First I'm going to set up Alice's private and public keys."
   ]
  },
  {
   "cell_type": "code",
   "execution_count": 5,
   "id": "flexible-interval",
   "metadata": {},
   "outputs": [],
   "source": [
    "import numpy as np\n",
    "from crypto import GeneratePrimeGeneratorPair"
   ]
  },
  {
   "cell_type": "code",
   "execution_count": 8,
   "id": "indonesian-duplicate",
   "metadata": {},
   "outputs": [],
   "source": [
    "def generate_keys(q, g):\n",
    "    secret = np.random.randint(1, q)\n",
    "    public = pow(g, secret, q)\n",
    "    \n",
    "    return secret, public"
   ]
  },
  {
   "cell_type": "code",
   "execution_count": 27,
   "id": "tracked-mentor",
   "metadata": {},
   "outputs": [
    {
     "name": "stdout",
     "output_type": "stream",
     "text": [
      "Prime: 23021\n",
      "Generator: 12535\n",
      "Secret Key: 12721\n",
      "Public Key: 1685\n"
     ]
    }
   ],
   "source": [
    "q, g = GeneratePrimeGeneratorPair(15)\n",
    "print(f\"Prime: {q}\\nGenerator: {g}\")\n",
    "\n",
    "sec_key, pub_key = generate_keys(q, g)\n",
    "print(f\"Secret Key: {sec_key}\\nPublic Key: {pub_key}\")"
   ]
  },
  {
   "cell_type": "markdown",
   "id": "sublime-neighborhood",
   "metadata": {},
   "source": [
    "Alice does this part, then publishes the prime, generator, and public key.\n",
    "\n",
    "Now Alice will prove knowledge of the secret key to Bob using Schnorr's proof of identification, an example of a Sigma protocol.\n",
    "\n",
    "The overall protocol looks like this:\n",
    "\n",
    "![Schnorr's Protocol](Schnorrs-protocol.png)\n",
    "\n",
    "First, Alice selects a random integer $k$ from $\\{1,...,q\\}$, then sends $h=g^k \\bmod q$ to Bob. Bob responds with a challenge $c$, also a random integer drawn from $\\{1,...,q\\}$. \n",
    "\n",
    "Alice calculates $s$ and sends it to Bob.\n",
    "$$\\large s = k - cx \\bmod q $$\n",
    "\n",
    "Bob then verifies \n",
    "$$\\large h = H^c g^s$$\n",
    "\n",
    "This works because\n",
    "\n",
    "$$\n",
    "\\large H^c g^s = (g^x)^c g^{k - cx} \\bmod q = g^k \\bmod q = h\n",
    "$$\n",
    "\n",
    "For this statement to be true, the shared key requires knowledge of the private key. \n",
    "\n",
    "As an exercise, try implementing this protocol using the secret and public keys created above."
   ]
  },
  {
   "cell_type": "code",
   "execution_count": 34,
   "id": "liked-hawaii",
   "metadata": {},
   "outputs": [
    {
     "name": "stdout",
     "output_type": "stream",
     "text": [
      "5812\n",
      "4926 17792\n",
      "9353\n"
     ]
    },
    {
     "data": {
      "text/plain": [
       "False"
      ]
     },
     "execution_count": 34,
     "metadata": {},
     "output_type": "execute_result"
    }
   ],
   "source": [
    "# This doesn't work yet >_<\n",
    "\n",
    "# Public information\n",
    "public = (pub_key, q, g)\n",
    "\n",
    "# The verifier creates a challenge and shares it with the prover\n",
    "c = np.random.randint(1, q)\n",
    "print(c)\n",
    "\n",
    "# Solution\n",
    "def prove(secret, challenge, q, g):\n",
    "    # Returns h and s as defined above\n",
    "    k = np.random.randint(1, q)\n",
    "    h = pow(g, k, q)\n",
    "    s = (k - secret * challenge) % q\n",
    "    \n",
    "    return h, s\n",
    "\n",
    "def verify(public, challenge, h, s):\n",
    "    # Returns True or False\n",
    "    H, q, g = public\n",
    "    print((pow(H, challenge, q) * pow(g, s, q)) % q)\n",
    "    \n",
    "    return h == (pow(H, challenge, q) * pow(g, s, q)) % q \n",
    "    \n",
    "    \n",
    "h, s = prove(sec_key, c, q, g)\n",
    "\n",
    "print(h, s)\n",
    "\n",
    "verify(public, c, h, s)"
   ]
  },
  {
   "cell_type": "markdown",
   "id": "imported-joseph",
   "metadata": {},
   "source": [
    "(Once I get this to work...)\n",
    "\n",
    "Now something even more fun! Schnorr's protocol requires the prover to interact with the verifier, which means both parties need to be available at the same time and willing. It turns out we can make Schnorr's protocol non-interactive by choosing the challenge $c$ with a hash function.\n",
    "\n",
    "..."
   ]
  }
 ],
 "metadata": {
  "kernelspec": {
   "display_name": "Python 3",
   "language": "python",
   "name": "python3"
  },
  "language_info": {
   "codemirror_mode": {
    "name": "ipython",
    "version": 3
   },
   "file_extension": ".py",
   "mimetype": "text/x-python",
   "name": "python",
   "nbconvert_exporter": "python",
   "pygments_lexer": "ipython3",
   "version": "3.8.5"
  }
 },
 "nbformat": 4,
 "nbformat_minor": 5
}
