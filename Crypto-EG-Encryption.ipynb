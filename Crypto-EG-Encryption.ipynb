{
 "cells": [
  {
   "cell_type": "markdown",
   "metadata": {},
   "source": [
    "This isn't for the course, just me learning some crypto thing I thought was interesting. It helps me learn general principles I can apply to other crypto topics.\n",
    "\n",
    "ElGamal Encryption: https://en.wikipedia.org/wiki/ElGamal_encryption"
   ]
  },
  {
   "cell_type": "code",
   "execution_count": 1,
   "metadata": {},
   "outputs": [],
   "source": [
    "import numpy as np\n",
    "from crypto import GeneratePrimeGeneratorPair"
   ]
  },
  {
   "cell_type": "markdown",
   "metadata": {},
   "source": [
    "# ElGamal Encryption\n",
    "\n",
    "It's homomorphic!\n",
    "\n",
    "## Multiplicative \n",
    "The multiplication ElGamal encryption scheme is\n",
    "\n",
    "$$\\large E(m) = (g^r, m \\cdot h^r)$$\n",
    "\n",
    "Where:\n",
    "- $g$ is the generator of a cyclic group with prime-order $q$, $\\mathbb{Z}_q$\n",
    "- $r$ is an ephemeral key, chosen randomly from $\\{1,...,q\\}$, $ r \\in \\mathbb{Z}_q$\n",
    "- $x$ is the private key, chosen randomly from $\\{1,...,q\\}$, $ x \\in \\mathbb{Z}_q$\n",
    "- $h$ is the public key, $h = g^x \\mod q$\n",
    "- $m$ is the message, must be in $\\mathbb{Z}_q$\n",
    "- All computations are taken modulus $q$"
   ]
  },
  {
   "cell_type": "code",
   "execution_count": 2,
   "metadata": {},
   "outputs": [],
   "source": [
    "def generate_keys(q, g):\n",
    "    x = np.random.randint(1, q)\n",
    "    h = pow(g, x, q)\n",
    "    \n",
    "    return x, (q, g, h)"
   ]
  },
  {
   "cell_type": "code",
   "execution_count": 3,
   "metadata": {},
   "outputs": [],
   "source": [
    "def encrypt(message, public):\n",
    "    q, g, h = public\n",
    "    y = np.random.randint(1, q)\n",
    "    s = pow(h, y, q)\n",
    "    c1 = pow(g, y, q)\n",
    "    c2 = (message * s) % q\n",
    "    return c1, c2\n",
    "\n",
    "def decrypt(c1, c2, secret, public):\n",
    "    q, g, h = public\n",
    "    s = pow(c1, secret, q)\n",
    "    # Using Fermat's little theorem\n",
    "    s_inv = pow(s, q-2, q)\n",
    "    decrypted = (c2 * s_inv) % q\n",
    "    return decrypted"
   ]
  },
  {
   "cell_type": "code",
   "execution_count": 4,
   "metadata": {},
   "outputs": [
    {
     "name": "stdout",
     "output_type": "stream",
     "text": [
      "4793 4557\n",
      "4033 (4793, 4557, 3208)\n",
      "3477 2626\n",
      "69\n"
     ]
    }
   ],
   "source": [
    "# Alice and Bob agree on a group with a prime order and a generator of that group\n",
    "q, g = GeneratePrimeGeneratorPair(13)\n",
    "print(q, g)\n",
    "\n",
    "# Alice generates the secret and public keys\n",
    "secret, public = generate_keys(q, g)\n",
    "print(secret, public)\n",
    "\n",
    "c1, c2 = encrypt(69, public)\n",
    "print(c1, c2)\n",
    "\n",
    "message = decrypt(c1, c2, secret, public)\n",
    "print(message)"
   ]
  },
  {
   "cell_type": "code",
   "execution_count": 5,
   "metadata": {},
   "outputs": [
    {
     "name": "stdout",
     "output_type": "stream",
     "text": [
      "60\n"
     ]
    }
   ],
   "source": [
    "# Encrypt two messages\n",
    "a1, b1 = encrypt(3, public)\n",
    "a2, b2 = encrypt(20, public)\n",
    "\n",
    "# Multiply the encrypted messages\n",
    "a3, b3 = a1*a2, b1*b2\n",
    "\n",
    "# Decrypt the result\n",
    "message = decrypt(a3, b3, secret, public)\n",
    "print(message)"
   ]
  },
  {
   "cell_type": "markdown",
   "metadata": {},
   "source": [
    "We get the result of multiplying the unencrypted values!\n",
    "\n",
    "There's also an additive form:\n",
    "$$\\large E(m) = (g^r, g^m \\cdot h^r)$$\n",
    "\n",
    "This is homomorphic under addition."
   ]
  }
 ],
 "metadata": {
  "kernelspec": {
   "display_name": "Python 3",
   "language": "python",
   "name": "python3"
  },
  "language_info": {
   "codemirror_mode": {
    "name": "ipython",
    "version": 3
   },
   "file_extension": ".py",
   "mimetype": "text/x-python",
   "name": "python",
   "nbconvert_exporter": "python",
   "pygments_lexer": "ipython3",
   "version": "3.8.5"
  }
 },
 "nbformat": 4,
 "nbformat_minor": 4
}
